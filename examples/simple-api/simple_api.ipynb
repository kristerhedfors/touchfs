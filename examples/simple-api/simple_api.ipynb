{
    "cells": [
        {
            "cell_type": "markdown",
            "metadata": {},
            "source": [
                "# Simple API Example\n",
                "\n",
                "This notebook demonstrates using TouchFS to generate a simple Python web API and its client. We'll create a Flask-based REST API for managing tasks, along with a curl-based client script."
            ]
        },
        {
            "cell_type": "markdown",
            "metadata": {},
            "source": [
                "## Initial Setup\n",
                "\n",
                "First, let's ensure we're in the correct directory and clean up any previous runs:"
            ]
        },
        {
            "cell_type": "code",
            "execution_count": null,
            "metadata": {},
            "source": [
                "# Ensure we're in the examples/simple-api directory\n",
                "%cd ../../examples/simple-api",
                "# Clean up any previous runs\n",
                "!fusermount -u workspace 2>/dev/null || true\n",
                "!umount workspace 2>/dev/null || true\n",
                "!umount -f workspace 2>/dev/null || true\n",
                "!rm -rf workspace"
            ]
        },
        {
            "cell_type": "markdown",
            "metadata": {},
            "source": [
                "## Create and Mount Workspace\n",
                "\n",
                "Now let's create a fresh workspace and mount TouchFS:"
            ]
        },
        {
            "cell_type": "code",
            "execution_count": null,
            "metadata": {},
            "source": [
                "# Create workspace directory\n",
                "!mkdir workspace",
                "# Mount TouchFS with our task-specific prompt\n",
                "!touchfs mount workspace --prompt \"Create a Flask-based REST API for managing tasks with endpoints for listing, creating, updating, and deleting tasks\"",
                "# Move into the workspace\n",
                "%cd workspace"
            ]
        },
        {
            "cell_type": "markdown",
            "metadata": {},
            "source": [
                "## Generate API Components\n",
                "\n",
                "We'll create our files in sequence, letting TouchFS generate appropriate content for each one based on the context from previous files.\n",
                "\n",
                "First, let's create the README that describes our API structure:"
            ]
        },
        {
            "cell_type": "code",
            "execution_count": null,
            "metadata": {},
            "source": [
                "!touch README.md\n",
                "!cat README.md"
            ]
        },
        {
            "cell_type": "markdown",
            "metadata": {},
            "source": [
                "Now that we have our API specification in the README, let's generate the Flask API implementation:"
            ]
        },
        {
            "cell_type": "code",
            "execution_count": null,
            "metadata": {},
            "source": [
                "!touch app.py\n",
                "!cat app.py"
            ]
        },
        {
            "cell_type": "markdown",
            "metadata": {},
            "source": [
                "Finally, let's create a shell script with curl commands to test our API:"
            ]
        },
        {
            "cell_type": "code",
            "execution_count": null,
            "metadata": {},
            "source": [
                "!touch curl_client.sh\n",
                "!chmod +x curl_client.sh\n",
                "!cat curl_client.sh"
            ]
        },
        {
            "cell_type": "markdown",
            "metadata": {},
            "source": [
                "## Test the API\n",
                "\n",
                "Let's start our Flask server in a new terminal window. Run this command in your terminal:\n",
                "\n",
                "```bash\n",
                "cd examples/simple-api/workspace && python app.py\n",
                "```\n",
                "\n",
                "Once the server is running, we can test our API using the generated curl client in this notebook:"
            ]
        },
        {
            "cell_type": "code",
            "execution_count": null,
            "metadata": {},
            "source": [
                "# List all tasks (initially empty)\n",
                "!./curl_client.sh list"
            ]
        },
        {
            "cell_type": "code",
            "execution_count": null,
            "metadata": {},
            "source": [
                "# Create a new task\n",
                "!./curl_client.sh create"
            ]
        },
        {
            "cell_type": "code",
            "execution_count": null,
            "metadata": {},
            "source": [
                "# List tasks again (should show our new task)\n",
                "!./curl_client.sh list"
            ]
        },
        {
            "cell_type": "markdown",
            "metadata": {},
            "source": [
                "## Cleanup\n",
                "\n",
                "Let's clean up our workspace. First stop the Flask server in your terminal with Ctrl+C, then run:"
            ]
        },
        {
            "cell_type": "code",
            "execution_count": null,
            "metadata": {},
            "source": [
                "# Move out of workspace\n",
                "%cd ..",
                "# Unmount the filesystem\n",
                "!fusermount -u workspace 2>/dev/null || true\n",
                "!umount workspace 2>/dev/null || true\n",
                "!umount -f workspace 2>/dev/null || true",
                "# Remove the workspace\n",
                "!rm -rf workspace"
            ]
        }
    ],
    "metadata": {
        "kernelspec": {
            "display_name": "Python 3",
            "language": "python",
            "name": "python3"
        },
        "language_info": {
            "codemirror_mode": {
                "name": "ipython",
                "version": 3
            },
            "file_extension": ".py",
            "mimetype": "text/x-python",
            "name": "python",
            "nbconvert_exporter": "python",
            "pygments_lexer": "ipython3",
            "version": "3.8.0"
        }
    },
    "nbformat": 4,
    "nbformat_minor": 4
}
