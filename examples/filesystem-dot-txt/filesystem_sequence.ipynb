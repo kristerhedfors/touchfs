{
    "cells": [
        {
            "cell_type": "markdown",
            "metadata": {},
            "source": [
                "# Sequential File Generation Example\n",
                "\n",
                "This notebook demonstrates the core concept of using filesystem sequences to generate project structures. The fundamental idea is captured in this elegant command:\n",
                "\n",
                "```bash\n",
                "touch $(cat filesystem.txt)\n",
                "```\n",
                "\n",
                "This simple yet powerful approach allows us to define project structures through the sequence of file creation operations."
            ]
        },
        {
            "cell_type": "markdown",
            "metadata": {},
            "source": [
                "## Setup\n",
                "\n",
                "First, let's ensure we're in the right directory and set up our workspace:"
            ]
        },
        {
            "cell_type": "code",
            "execution_count": null,
            "metadata": {},
            "source": [
                "import os
                "# Move to notebook directory
                "%cd  + os.path.dirname(os.path.realpath('filesystem_sequence.ipynb'))"
                "
                "# Clean up any existing workspace
                "!fusermount -u workspace 2>/dev/null || true
                "!rm -rf workspace
                "
                "# Create fresh workspace
                "!mkdir -p workspace
                "!touchfs mount workspace
                "%cd workspace"
            ]
        },
        {
            "cell_type": "markdown",
            "metadata": {},
            "source": [
                "## Creating the Filesystem Definition\n",
                "\n",
                "Let's define our project structure in filesystem.txt. The order of files is crucial as it determines the generation sequence:"
            ]
        },
        {
            "cell_type": "code",
            "execution_count": null,
            "metadata": {},
            "source": [
                "%%writefile filesystem.txt",
                "README.md",
                "src/main.py",
                "tests/test_main.py",
                "docs/api.md",
                "requirements.txt"
            ]
        },
        {
            "cell_type": "markdown",
            "metadata": {},
            "source": [
                "## Sequential Generation\n",
                "\n",
                "Now we'll generate the files in sequence. Each file is generated with awareness of all previously generated files:"
            ]
        },
        {
            "cell_type": "code",
            "execution_count": null,
            "metadata": {},
            "source": [
                "!touch $(cat filesystem.txt)"
            ]
        },
        {
            "cell_type": "markdown",
            "metadata": {},
            "source": [
                "## Examining the Results\n",
                "\n",
                "Let's look at what was generated:"
            ]
        },
        {
            "cell_type": "code",
            "execution_count": null,
            "metadata": {},
            "source": [
                "!tree"
            ]
        },
        {
            "cell_type": "markdown",
            "metadata": {},
            "source": [
                "## Alternative Sequences\n",
                "\n",
                "Different sequences can lead to different project structures. Let's try a test-driven approach:"
            ]
        },
        {
            "cell_type": "code",
            "execution_count": null,
            "metadata": {},
            "source": [
                "%%writefile filesystem.txt",
                "tests/test_main.py",
                "src/main.py",
                "README.md",
                "docs/api.md",
                "requirements.txt"
            ]
        },
        {
            "cell_type": "code",
            "execution_count": null,
            "metadata": {},
            "source": [
                "!touch $(cat filesystem.txt)"
            ]
        },
        {
            "cell_type": "markdown",
            "metadata": {},
            "source": [
                "## Cleanup"
            ]
        },
        {
            "cell_type": "code",
            "execution_count": null,
            "metadata": {},
            "source": [
                "%cd ..",
                "!fusermount -u workspace",
                "!rm -rf workspace"
            ]
        }
    ],
    "metadata": {
        "kernelspec": {
            "display_name": "venv",
            "language": "python",
            "name": "python3"
        },
        "language_info": {
            "codemirror_mode": {
                "name": "ipython",
                "version": 3
            },
            "file_extension": ".py",
            "mimetype": "text/x-python",
            "name": "python",
            "nbconvert_exporter": "python",
            "pygments_lexer": "ipython3",
            "version": "3.10.12"
        }
    },
    "nbformat": 4,
    "nbformat_minor": 4
}
