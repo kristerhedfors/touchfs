{
 "cells": [
  {
   "cell_type": "markdown",
   "metadata": {},
   "source": [
    "# 🎨 Creating a Comic Strip with TouchFS\n",
    "\n",
    "This notebook demonstrates how to use TouchFS to generate a comic strip by creating a markdown file that provides context for image generation."
   ]
  },
  {
   "cell_type": "markdown",
   "metadata": {},
   "source": [
    "## Initial Setup\n",
    "\n",
    "First, let's set up our workspace and mount TouchFS:"
   ]
  },
  {
   "cell_type": "code",
   "execution_count": null,
   "metadata": {},
   "source": [
    "# Clean up any previous runs\n",
    "!fusermount -u comic_mount 2>/dev/null || true\n",
    "!rm -rf comic_mount\n",
    "\n",
    "# Create and mount our workspace\n",
    "!mkdir comic_mount\n",
    "!touchfs mount comic_mount"
   ]
  },
  {
   "cell_type": "markdown",
   "metadata": {},
   "source": [
    "## Create Comic Strip\n",
    "\n",
    "Now let's create our comic strip markdown file that will provide context for the images:"
   ]
  },
  {
   "cell_type": "code",
   "execution_count": null,
   "metadata": {},
   "source": [
    "%%writefile comic_mount/comic.md\n",
    "# The Inventor's Dilemma\n",
    "\n",
    "## Panel 1\n",
    "![Panel 1](panel1.jpg)\n",
    "*Scene description: In a cluttered garage workshop, Dr. Emma Wright (mid-30s, wearing safety goggles and a lab coat) stands proudly next to her latest invention - a sleek, metallic time-travel device about the size of a microwave. Tools and blueprints are scattered across her workbench.*\n",
    "\n",
    "**Emma:** \"Finally! After years of work, my time machine is complete!\"\n",
    "\n",
    "## Panel 2\n",
    "![Panel 2](panel2.jpg)\n",
    "*Scene description: Emma's cat, Mr. Whiskers (orange tabby), jumps onto the workbench, knocking over a cup of coffee that's about to spill onto the time machine. Emma lunges forward with a panicked expression.*\n",
    "\n",
    "**Emma:** \"Mr. Whiskers, NO!\"\n",
    "\n",
    "## Panel 3\n",
    "![Panel 3](panel3.jpg)\n",
    "*Scene description: A bright flash fills the panel as the coffee makes contact with the machine. Sparks fly and a swirling vortex begins to form. Emma shields her eyes while Mr. Whiskers looks surprisingly calm.*\n",
    "\n",
    "**Emma:** \"Oh no oh no oh no!\"\n",
    "\n",
    "## Panel 4\n",
    "![Panel 4](panel4.jpg)\n",
    "*Scene description: The garage is now filled with dozens of Mr. Whiskers from different time periods - one wearing a knight's helmet, another in a space suit, one with a pirate hat. Emma stands in the middle, facepalming. The original Mr. Whiskers sits proudly on the smoking time machine.*\n",
    "\n",
    "**Emma:** \"Well... at least we know it works.\"\n",
    "**Medieval Mr. Whiskers:** \"Meow.\"\n",
    "**Space Mr. Whiskers:** \"Meow.\"\n",
    "**Pirate Mr. Whiskers:** \"Yarr-meow.\""
   ]
  },
  {
   "cell_type": "markdown",
   "metadata": {},
   "source": [
    "## Generate Images\n",
    "\n",
    "Now let's generate the images for each panel. TouchFS will read the comic.md file to understand the context and generate appropriate images:"
   ]
  },
  {
   "cell_type": "code",
   "execution_count": null,
   "metadata": {},
   "source": [
    "# Generate each panel image\n",
    "!cd comic_mount && touch panel1.jpg panel2.jpg panel3.jpg panel4.jpg"
   ]
  },
  {
   "cell_type": "markdown",
   "metadata": {},
   "source": [
    "## View Results\n",
    "\n",
    "Let's look at our generated comic strip:"
   ]
  },
  {
   "cell_type": "code",
   "execution_count": null,
   "metadata": {},
   "source": [
    "from IPython.display import Markdown\n",
    "with open('comic_mount/comic.md', 'r') as f:\n",
    "    Markdown(f.read())"
   ]
  },
  {
   "cell_type": "markdown",
   "metadata": {},
   "source": [
    "## Cleanup\n",
    "\n",
    "Finally, let's clean up our workspace:"
   ]
  },
  {
   "cell_type": "code",
   "execution_count": null,
   "metadata": {},
   "source": [
    "!touchfs mount -u comic_mount\n",
    "!rm -rf comic_mount"
   ]
  }
 ],
 "metadata": {
  "kernelspec": {
   "display_name": "Python 3",
   "language": "python",
   "name": "python3"
  },
  "language_info": {
   "codemirror_mode": {
    "name": "ipython",
    "version": 3
   },
   "file_extension": ".py",
   "mimetype": "text/x-python",
   "name": "python",
   "nbconvert_exporter": "python",
   "pygments_lexer": "ipython3",
   "version": "3.8.0"
  }
 },
 "nbformat": 4,
 "nbformat_minor": 4
}
