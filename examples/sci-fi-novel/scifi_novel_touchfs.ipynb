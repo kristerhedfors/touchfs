{
    "cells": [
        {
            "cell_type": "markdown",
            "metadata": {},
            "source": [
                "# 🚀 Writing a Science Fiction Novel with TouchFS\n",
                "\n",
                "Welcome to this exciting demonstration of TouchFS (LLM File System)! In this notebook, we'll show you how to harness the power of AI to help write a compelling science fiction novel. 📚\n",
                "\n",
                "### ✨ What makes TouchFS special?\n",
                "\n",
                "TouchFS turns your filesystem into an AI-powered creative writing assistant! Simply by creating files, you can:\n",
                "- 📝 Generate chapter content automatically\n",
                "- 🎭 Create detailed character profiles\n",
                "- 🌍 Build rich world descriptions\n",
                "- 📚 Maintain consistency across your story\n",
                "\n",
                "Let's see it in action!"
            ]
        },
        {
            "cell_type": "markdown",
            "metadata": {},
            "source": [
                "## Initial Setup\n",
                "\n",
                "Here's where the magic happens! We're going to mount TouchFS, which will turn our regular directory into an AI-powered creative writing assistant. 🪄"
            ]
        },
        {
            "cell_type": "code",
            "execution_count": null,
            "metadata": {},
            "source": [
                "# Clean up any previous runs\n",
                "!fusermount -u workspace 2>/dev/null || true\n",
                "!rm -rf workspace\n",
                "\n",
                "# Create and mount our writing workspace\n",
                "!mkdir workspace\n",
                "!touchfs mount workspace"
            ]
        },
        {
            "cell_type": "markdown",
            "metadata": {},
            "source": [
                "## Set Writing Guidelines\n",
                "\n",
                "The .prompt file is like a creative brief for our AI assistant. It sets up the world, themes, and guidelines for our story. This is where we tell TouchFS what kind of content to generate for different types of files. 🎨"
            ]
        },
        {
            "cell_type": "code",
            "execution_count": null,
            "metadata": {},
            "source": [
                "%%writefile workspace/.prompt\n",
                "Generate content for a science fiction novel set on Mars in the year 2157. The story follows a team of scientists who discover ancient alien artifacts beneath the Martian surface. Key themes include:\n",
                "- The balance between scientific progress and preservation\n",
                "- Cultural differences between Earth-born and Mars-born humans\n",
                "- The mystery of the alien civilization\n",
                "- Personal conflicts within the research team\n",
                "\n",
                "For different file types:\n",
                "- chapters/*.txt: Story chapters with vivid descriptions and engaging dialogue\n",
                "- characters/*.md: Detailed character profiles including background, personality, and motivations\n",
                "- locations/*.md: Rich descriptions of Martian settings and facilities\n",
                "- artifacts/*.md: Scientific and historical details about discovered alien objects"
            ]
        },
        {
            "cell_type": "markdown",
            "metadata": {},
            "source": [
                "## Create Story Structure\n",
                "\n",
                "Now let's set up our directory structure to organize our novel:"
            ]
        },
        {
            "cell_type": "code",
            "execution_count": null,
            "metadata": {},
            "source": [
                "!cd workspace && mkdir -p chapters characters locations artifacts"
            ]
        },
        {
            "cell_type": "markdown",
            "metadata": {},
            "source": [
                "## Create Characters\n",
                "\n",
                "Now for the fun part - creating our characters! TouchFS will generate detailed profiles for each character we create. Watch how it builds their personalities, backgrounds, and roles in the story."
            ]
        },
        {
            "cell_type": "code",
            "execution_count": null,
            "metadata": {},
            "source": [
                "# Create our main characters\n",
                "!cd workspace/characters && touch \\\n",
                "    \"dr_sarah_chen.md\" \\\n",
                "    \"james_martinez.md\" \\\n",
                "    \"aisha_patel.md\" \\\n",
                "    \"marcus_schmidt.md\"\n",
                "\n",
                "# Let's look at our protagonist's profile\n",
                "!cat \"workspace/characters/dr_sarah_chen.md\""
            ]
        },
        {
            "cell_type": "markdown",
            "metadata": {},
            "source": [
                "## Describe Locations\n",
                "\n",
                "Now let's create the locations where our story will unfold. TouchFS will generate rich descriptions of each setting, helping readers immerse themselves in our Martian world."
            ]
        },
        {
            "cell_type": "code",
            "execution_count": null,
            "metadata": {},
            "source": [
                "# Create our key locations\n",
                "!cd workspace/locations && touch \\\n",
                "    \"olympus_base.md\" \\\n",
                "    \"ancient_chamber.md\" \\\n",
                "    \"research_lab.md\" \\\n",
                "    \"martian_surface.md\"\n",
                "\n",
                "# Let's see the description of the ancient chamber\n",
                "!cat \"workspace/locations/ancient_chamber.md\""
            ]
        },
        {
            "cell_type": "markdown",
            "metadata": {},
            "source": [
                "## Write Chapters\n",
                "\n",
                "Now that we have our world built, let's write our story chapter by chapter! TouchFS will generate content that weaves together our characters, locations, and artifacts into a cohesive narrative."
            ]
        },
        {
            "cell_type": "code",
            "execution_count": null,
            "metadata": {},
            "source": [
                "# Create first three chapters\n",
                "!cd workspace/chapters && touch \\\n",
                "    \"01_discovery.txt\" \\\n",
                "    \"02_first_contact.txt\" \\\n",
                "    \"03_secrets_revealed.txt\"\n",
                "\n",
                "# Let's read the opening chapter\n",
                "!cat \"workspace/chapters/01_discovery.txt\""
            ]
        },
        {
            "cell_type": "markdown",
            "metadata": {},
            "source": [
                "## Revise and Refine\n",
                "\n",
                "Sometimes we need to revise our work or add missing context. Watch how TouchFS helps us improve our story:"
            ]
        },
        {
            "cell_type": "code",
            "execution_count": null,
            "metadata": {},
            "source": [
                "# Add some artifacts to provide context\n",
                "!cd workspace/artifacts && touch \\\n",
                "    \"crystal_matrix.md\" \\\n",
                "    \"alien_inscriptions.md\"\n",
                "\n",
                "# Now let's revise chapter 2 with this new context\n",
                "!rm \"workspace/chapters/02_first_contact.txt\"\n",
                "!touch \"workspace/chapters/02_first_contact.txt\"\n",
                "\n",
                "# Let's see how the revised chapter incorporates the artifacts\n",
                "!cat \"workspace/chapters/02_first_contact.txt\""
            ]
        },
        {
            "cell_type": "markdown",
            "metadata": {},
            "source": [
                "## Cleanup\n",
                "\n",
                "You've just experienced the power of TouchFS for creative writing! Here's what you can do next:\n",
                "1. 📝 Continue adding chapters to develop your story\n",
                "2. 🎭 Create more character profiles for supporting cast\n",
                "3. 🌍 Add more locations as your story expands\n",
                "4. 📚 Use artifacts to build your world's mythology\n",
                "\n",
                "Let's clean up our workspace:"
            ]
        },
        {
            "cell_type": "code",
            "execution_count": null,
            "metadata": {},
            "source": [
                "!fusermount -u workspace\n",
                "!rm -rf workspace"
            ]
        }
    ],
    "metadata": {
        "kernelspec": {
            "display_name": "Python 3",
            "language": "python",
            "name": "python3"
        },
        "language_info": {
            "codemirror_mode": {
                "name": "ipython",
                "version": 3
            },
            "file_extension": ".py",
            "mimetype": "text/x-python",
            "name": "python",
            "nbconvert_exporter": "python",
            "pygments_lexer": "ipython3",
            "version": "3.8.0"
        }
    },
    "nbformat": 4,
    "nbformat_minor": 4
}
