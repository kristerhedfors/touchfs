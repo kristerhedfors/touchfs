{
 "cells": [
  {
   "cell_type": "markdown",
   "metadata": {},
   "source": [
    "# Kitten Image Generator Example\n",
    "\n",
    "This example demonstrates using TouchFS with the image plugin to generate a kitten image using simple touch commands."
   ]
  },
  {
   "cell_type": "code",
   "execution_count": null,
   "metadata": {},
   "source": [
    "# Initial cleanup - ensure workspace is unmounted and clean\n",
    "!fusermount -u workspace 2>/dev/null || true\n",
    "!rm -rf workspace"
   ]
  },
  {
   "cell_type": "code",
   "execution_count": null,
   "metadata": {},
   "source": [
    "# Create fresh workspace directory\n",
    "!mkdir -p workspace"
   ]
  },
  {
   "cell_type": "code",
   "execution_count": null,
   "metadata": {},
   "source": [
    "# Mount TouchFS in the workspace\n",
    "!touchfs mount workspace"
   ]
  },
  {
   "cell_type": "code",
   "execution_count": null,
   "metadata": {},
   "source": [
    "# Change to workspace directory\n",
    "%cd workspace"
   ]
  },
  {
   "cell_type": "code",
   "execution_count": null,
   "metadata": {},
   "source": [
    "# Create a PNG file - the content will be used as the prompt\n",
    "!echo \"A cute fluffy orange kitten playing with a ball of yarn, digital art style\" > kitten.png"
   ]
  },
  {
   "cell_type": "code",
   "execution_count": null,
   "metadata": {},
   "source": [
    "# Display the generated image\n",
    "from IPython.display import Image\n",
    "Image(filename='kitten.png')"
   ]
  },
  {
   "cell_type": "code",
   "execution_count": null,
   "metadata": {},
   "source": [
    "# Change back to parent directory\n",
    "%cd .."
   ]
  },
  {
   "cell_type": "code",
   "execution_count": null,
   "metadata": {},
   "source": [
    "# Final cleanup\n",
    "!touchfs mount -u workspace\n",
    "!rm -rf workspace"
   ]
  }
 ],
 "metadata": {
  "kernelspec": {
   "display_name": "Python 3",
   "language": "python",
   "name": "python3"
  },
  "language_info": {
   "codemirror_mode": {
    "name": "ipython",
    "version": 3
   },
   "file_extension": ".py",
   "mimetype": "text/x-python",
   "name": "python",
   "nbconvert_exporter": "python",
   "pygments_lexer": "ipython3",
   "version": "3.8.0"
  }
 },
 "nbformat": 4,
 "nbformat_minor": 4
}
